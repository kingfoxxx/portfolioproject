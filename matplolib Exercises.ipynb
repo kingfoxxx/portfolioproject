{
 "cells": [
  {
   "cell_type": "code",
   "execution_count": 1,
   "id": "f6d6d08b",
   "metadata": {},
   "outputs": [],
   "source": [
    "import matplotlib.pyplot as plt"
   ]
  },
  {
   "cell_type": "code",
   "execution_count": 2,
   "id": "ec30251d",
   "metadata": {},
   "outputs": [],
   "source": [
    "%matplotlib inline"
   ]
  },
  {
   "cell_type": "code",
   "execution_count": 4,
   "id": "c1667115",
   "metadata": {},
   "outputs": [],
   "source": [
    "import numpy as np\n",
    "x = np.arange(2,21,2)\n",
    "y = x**2"
   ]
  },
  {
   "cell_type": "code",
   "execution_count": 5,
   "id": "d6e8092f",
   "metadata": {},
   "outputs": [
    {
     "data": {
      "text/plain": [
       "array([ 2,  4,  6,  8, 10, 12, 14, 16, 18, 20])"
      ]
     },
     "execution_count": 5,
     "metadata": {},
     "output_type": "execute_result"
    }
   ],
   "source": [
    "x"
   ]
  },
  {
   "cell_type": "code",
   "execution_count": 8,
   "id": "c6b90817",
   "metadata": {},
   "outputs": [
    {
     "data": {
      "text/plain": [
       "array([  4,  16,  36,  64, 100, 144, 196, 256, 324, 400], dtype=int32)"
      ]
     },
     "execution_count": 8,
     "metadata": {},
     "output_type": "execute_result"
    }
   ],
   "source": [
    "y"
   ]
  },
  {
   "cell_type": "code",
   "execution_count": 10,
   "id": "c9ed7d93",
   "metadata": {},
   "outputs": [
    {
     "data": {
      "text/plain": [
       "<function matplotlib.pyplot.show(close=None, block=None)>"
      ]
     },
     "execution_count": 10,
     "metadata": {},
     "output_type": "execute_result"
    },
    {
     "data": {
      "image/png": "[encoded data removed]",
      "text/plain": [
       "<Figure size 432x288 with 1 Axes>"
      ]
     },
     "metadata": {
      "needs_background": "light"
     },
     "output_type": "display_data"
    }
   ],
   "source": [
    "plt.plot(x,y)\n",
    "plt.show"
   ]
  },
  {
   "cell_type": "code",
   "execution_count": 12,
   "id": "5956ebc4",
   "metadata": {},
   "outputs": [
    {
     "data": {
      "text/plain": [
       "<BarContainer object of 10 artists>"
      ]
     },
     "execution_count": 12,
     "metadata": {},
     "output_type": "execute_result"
    },
    {
     "data": {
      "image/png": "[encoded data removed]",
      "text/plain": [
       "<Figure size 432x288 with 1 Axes>"
      ]
     },
     "metadata": {
      "needs_background": "light"
     },
     "output_type": "display_data"
    }
   ],
   "source": [
    "plt.bar(x,y)"
   ]
  },
  {
   "cell_type": "code",
   "execution_count": 13,
   "id": "c8b77520",
   "metadata": {},
   "outputs": [
    {
     "data": {
      "text/plain": [
       "(array([6., 3., 0., 0., 0., 0., 0., 0., 0.]),\n",
       " array([  4,  16,  36,  64, 100, 144, 196, 256, 324, 400], dtype=int32),\n",
       " <BarContainer object of 9 artists>)"
      ]
     },
     "execution_count": 13,
     "metadata": {},
     "output_type": "execute_result"
    },
    {
     "data": {
      "image/png": "[encoded data removed]",
      "text/plain": [
       "<Figure size 432x288 with 1 Axes>"
      ]
     },
     "metadata": {
      "needs_background": "light"
     },
     "output_type": "display_data"
    }
   ],
   "source": [
    "plt.hist(x,y)"
   ]
  },
  {
   "cell_type": "code",
   "execution_count": 36,
   "id": "63bb022c",
   "metadata": {},
   "outputs": [],
   "source": [
    "import numpy as np"
   ]
  },
  {
   "cell_type": "code",
   "execution_count": 37,
   "id": "a0f3023d",
   "metadata": {},
   "outputs": [],
   "source": [
    "import pandas as pd"
   ]
  },
  {
   "cell_type": "code",
   "execution_count": 38,
   "id": "ad85897b",
   "metadata": {},
   "outputs": [],
   "source": [
    "np.random.seed(101)"
   ]
  },
  {
   "cell_type": "code",
   "execution_count": 80,
   "id": "2214c2a2",
   "metadata": {},
   "outputs": [
    {
     "data": {
      "text/plain": [
       "{'01': ['ayo', 87, 15, 50],\n",
       " '02': ['josh', 75, 20, 45],\n",
       " '03': ['dave', 9, 25, 47],\n",
       " '04': ['joe', 77, 22, 50],\n",
       " '05': ['bright', 40, 30, 46]}"
      ]
     },
     "execution_count": 80,
     "metadata": {},
     "output_type": "execute_result"
    }
   ],
   "source": [
    "employees = {\n",
    "    '01': ['ayo',np.random.randint(100),15,50],\n",
    "    '02':['josh',np.random.randint(90),20,45],\n",
    "    '03':['dave',np.random.randint(95),25,47],\n",
    "    '04':['joe',np.random.randint(100),22,50],\n",
    "    '05':['bright',np.random.randint(93),30,46]\n",
    "} \n",
    "employees"
   ]
  },
  {
   "cell_type": "code",
   "execution_count": 81,
   "id": "8fea2e40",
   "metadata": {},
   "outputs": [
    {
     "data": {
      "text/plain": [
       "01       [ayo, 87, 15, 50]\n",
       "02      [josh, 75, 20, 45]\n",
       "03       [dave, 9, 25, 47]\n",
       "04       [joe, 77, 22, 50]\n",
       "05    [bright, 40, 30, 46]\n",
       "dtype: object"
      ]
     },
     "execution_count": 81,
     "metadata": {},
     "output_type": "execute_result"
    }
   ],
   "source": [
    "pd.Series(employees)"
   ]
  },
  {
   "cell_type": "code",
   "execution_count": 82,
   "id": "6b5ebe3d",
   "metadata": {},
   "outputs": [],
   "source": [
    "data_set = pd.DataFrame(employees,['NAME','SALES','AGE','SALARY'])"
   ]
  },
  {
   "cell_type": "code",
   "execution_count": 83,
   "id": "aee0de8d",
   "metadata": {},
   "outputs": [
    {
     "data": {
      "text/html": [
       "<div>\n",
       "<style scoped>\n",
       "    .dataframe tbody tr th:only-of-type {\n",
       "        vertical-align: middle;\n",
       "    }\n",
       "\n",
       "    .dataframe tbody tr th {\n",
       "        vertical-align: top;\n",
       "    }\n",
       "\n",
       "    .dataframe thead th {\n",
       "        text-align: right;\n",
       "    }\n",
       "</style>\n",
       "<table border=\"1\" class=\"dataframe\">\n",
       "  <thead>\n",
       "    <tr style=\"text-align: right;\">\n",
       "      <th></th>\n",
       "      <th>01</th>\n",
       "      <th>02</th>\n",
       "      <th>03</th>\n",
       "      <th>04</th>\n",
       "      <th>05</th>\n",
       "    </tr>\n",
       "  </thead>\n",
       "  <tbody>\n",
       "    <tr>\n",
       "      <th>NAME</th>\n",
       "      <td>ayo</td>\n",
       "      <td>josh</td>\n",
       "      <td>dave</td>\n",
       "      <td>joe</td>\n",
       "      <td>bright</td>\n",
       "    </tr>\n",
       "    <tr>\n",
       "      <th>SALES</th>\n",
       "      <td>87</td>\n",
       "      <td>75</td>\n",
       "      <td>9</td>\n",
       "      <td>77</td>\n",
       "      <td>40</td>\n",
       "    </tr>\n",
       "    <tr>\n",
       "      <th>AGE</th>\n",
       "      <td>15</td>\n",
       "      <td>20</td>\n",
       "      <td>25</td>\n",
       "      <td>22</td>\n",
       "      <td>30</td>\n",
       "    </tr>\n",
       "    <tr>\n",
       "      <th>SALARY</th>\n",
       "      <td>50</td>\n",
       "      <td>45</td>\n",
       "      <td>47</td>\n",
       "      <td>50</td>\n",
       "      <td>46</td>\n",
       "    </tr>\n",
       "  </tbody>\n",
       "</table>\n",
       "</div>"
      ],
      "text/plain": [
       "         01    02    03   04      05\n",
       "NAME    ayo  josh  dave  joe  bright\n",
       "SALES    87    75     9   77      40\n",
       "AGE      15    20    25   22      30\n",
       "SALARY   50    45    47   50      46"
      ]
     },
     "execution_count": 83,
     "metadata": {},
     "output_type": "execute_result"
    }
   ],
   "source": [
    "data_set"
   ]
  },
  {
   "cell_type": "code",
   "execution_count": 84,
   "id": "4db725e3",
   "metadata": {},
   "outputs": [
    {
     "data": {
      "text/plain": [
       "NAME      bright\n",
       "SALES         40\n",
       "AGE           30\n",
       "SALARY        46\n",
       "Name: 05, dtype: object"
      ]
     },
     "execution_count": 84,
     "metadata": {},
     "output_type": "execute_result"
    }
   ],
   "source": [
    "data_set['05']"
   ]
  },
  {
   "cell_type": "code",
   "execution_count": 85,
   "id": "b990ad56",
   "metadata": {},
   "outputs": [
    {
     "data": {
      "text/plain": [
       "01       ayo\n",
       "02      josh\n",
       "03      dave\n",
       "04       joe\n",
       "05    bright\n",
       "Name: NAME, dtype: object"
      ]
     },
     "execution_count": 85,
     "metadata": {},
     "output_type": "execute_result"
    }
   ],
   "source": [
    "data_set.loc['NAME']"
   ]
  },
  {
   "cell_type": "code",
   "execution_count": 86,
   "id": "4bec5c7a",
   "metadata": {},
   "outputs": [
    {
     "data": {
      "text/plain": [
       "25"
      ]
     },
     "execution_count": 86,
     "metadata": {},
     "output_type": "execute_result"
    }
   ],
   "source": [
    "data_set['03']['AGE']"
   ]
  },
  {
   "cell_type": "code",
   "execution_count": 87,
   "id": "8cb72a37",
   "metadata": {},
   "outputs": [
    {
     "data": {
      "text/plain": [
       "01       ayo\n",
       "02      josh\n",
       "03      dave\n",
       "04       joe\n",
       "05    bright\n",
       "Name: NAME, dtype: object"
      ]
     },
     "execution_count": 87,
     "metadata": {},
     "output_type": "execute_result"
    }
   ],
   "source": [
    "A = data_set.loc['NAME']\n",
    "A"
   ]
  },
  {
   "cell_type": "code",
   "execution_count": 88,
   "id": "6d37f44f",
   "metadata": {},
   "outputs": [
    {
     "data": {
      "text/plain": [
       "01    87\n",
       "02    75\n",
       "03     9\n",
       "04    77\n",
       "05    40\n",
       "Name: SALES, dtype: object"
      ]
     },
     "execution_count": 88,
     "metadata": {},
     "output_type": "execute_result"
    }
   ],
   "source": [
    "B = data_set.loc['SALES']\n",
    "B"
   ]
  },
  {
   "cell_type": "code",
   "execution_count": 89,
   "id": "15158538",
   "metadata": {},
   "outputs": [
    {
     "data": {
      "text/plain": [
       "01    50\n",
       "02    45\n",
       "03    47\n",
       "04    50\n",
       "05    46\n",
       "Name: SALARY, dtype: object"
      ]
     },
     "execution_count": 89,
     "metadata": {},
     "output_type": "execute_result"
    }
   ],
   "source": [
    "C =  data_set.loc['SALARY']\n",
    "C"
   ]
  },
  {
   "cell_type": "code",
   "execution_count": 98,
   "id": "03d56eaf",
   "metadata": {},
   "outputs": [
    {
     "data": {
      "text/plain": [
       "[<matplotlib.lines.Line2D at 0x1b4f2f72a60>]"
      ]
     },
     "execution_count": 98,
     "metadata": {},
     "output_type": "execute_result"
    },
    {
     "data": {
      "image/png": "[encoded data removed]",
      "text/plain": [
       "<Figure size 432x288 with 1 Axes>"
      ]
     },
     "metadata": {
      "needs_background": "light"
     },
     "output_type": "display_data"
    }
   ],
   "source": [
    "plt.plot(A,B)\n",
    "plt.plot(A,C)"
   ]
  },
  {
   "cell_type": "code",
   "execution_count": 91,
   "id": "535c0f2f",
   "metadata": {},
   "outputs": [
    {
     "data": {
      "text/plain": [
       "01    87\n",
       "02    75\n",
       "03     9\n",
       "04    77\n",
       "05    40\n",
       "Name: SALES, dtype: object"
      ]
     },
     "execution_count": 91,
     "metadata": {},
     "output_type": "execute_result"
    }
   ],
   "source": [
    "B"
   ]
  },
  {
   "cell_type": "code",
   "execution_count": null,
   "id": "ae6db526",
   "metadata": {},
   "outputs": [],
   "source": []
  },
  {
   "cell_type": "code",
   "execution_count": null,
   "id": "48a25c75",
   "metadata": {},
   "outputs": [],
   "source": []
  }
 ],
 "metadata": {
  "kernelspec": {
   "display_name": "Python 3 (ipykernel)",
   "language": "python",
   "name": "python3"
  },
  "language_info": {
   "codemirror_mode": {
    "name": "ipython",
    "version": 3
   },
   "file_extension": ".py",
   "mimetype": "text/x-python",
   "name": "python",
   "nbconvert_exporter": "python",
   "pygments_lexer": "ipython3",
   "version": "3.9.7"
  }
 },
 "nbformat": 4,
 "nbformat_minor": 5
}
